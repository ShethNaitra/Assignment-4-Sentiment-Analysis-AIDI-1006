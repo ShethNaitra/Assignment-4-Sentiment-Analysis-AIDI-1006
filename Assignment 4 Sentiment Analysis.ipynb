{
 "cells": [
  {
   "cell_type": "markdown",
   "id": "12840e8e",
   "metadata": {},
   "source": [
    "# Assignment 4 Sentiment Analysis\n",
    "### Naitra Sheth\n",
    "### Urvish Mandaliya"
   ]
  },
  {
   "cell_type": "code",
   "execution_count": 1,
   "id": "d87ca5f2",
   "metadata": {},
   "outputs": [
    {
     "name": "stdout",
     "output_type": "stream",
     "text": [
      "Requirement already satisfied: textblob in c:\\users\\naitr\\anaconda3\\lib\\site-packages (0.18.0.post0)\n",
      "Requirement already satisfied: nltk>=3.8 in c:\\users\\naitr\\anaconda3\\lib\\site-packages (from textblob) (3.8.1)\n",
      "Requirement already satisfied: click in c:\\users\\naitr\\anaconda3\\lib\\site-packages (from nltk>=3.8->textblob) (8.0.4)\n",
      "Requirement already satisfied: joblib in c:\\users\\naitr\\anaconda3\\lib\\site-packages (from nltk>=3.8->textblob) (1.2.0)\n",
      "Requirement already satisfied: regex>=2021.8.3 in c:\\users\\naitr\\anaconda3\\lib\\site-packages (from nltk>=3.8->textblob) (2022.7.9)\n",
      "Requirement already satisfied: tqdm in c:\\users\\naitr\\anaconda3\\lib\\site-packages (from nltk>=3.8->textblob) (4.65.0)\n",
      "Requirement already satisfied: colorama in c:\\users\\naitr\\anaconda3\\lib\\site-packages (from click->nltk>=3.8->textblob) (0.4.6)\n"
     ]
    }
   ],
   "source": [
    "!pip install textblob"
   ]
  },
  {
   "cell_type": "code",
   "execution_count": 2,
   "id": "4dae7184",
   "metadata": {},
   "outputs": [
    {
     "name": "stdout",
     "output_type": "stream",
     "text": [
      "                                              review sentiment\n",
      "0  One of the other reviewers has mentioned that ...  positive\n",
      "1  A wonderful little production. <br /><br />The...  positive\n",
      "2  I thought this was a wonderful way to spend ti...  positive\n",
      "3  Basically there's a family where a little boy ...  negative\n",
      "4  Petter Mattei's \"Love in the Time of Money\" is...  positive\n"
     ]
    }
   ],
   "source": [
    "import pandas as pd\n",
    "\n",
    "# Load the dataset\n",
    "df = pd.read_csv('IMDB Dataset.csv')\n",
    "\n",
    "# Display the first few rows of the dataset\n",
    "print(df.head())"
   ]
  },
  {
   "cell_type": "code",
   "execution_count": 3,
   "id": "3c4fc93a",
   "metadata": {},
   "outputs": [
    {
     "name": "stderr",
     "output_type": "stream",
     "text": [
      "[nltk_data] Downloading package punkt to\n",
      "[nltk_data]     C:\\Users\\naitr\\AppData\\Roaming\\nltk_data...\n",
      "[nltk_data]   Package punkt is already up-to-date!\n",
      "[nltk_data] Downloading package wordnet to\n",
      "[nltk_data]     C:\\Users\\naitr\\AppData\\Roaming\\nltk_data...\n",
      "[nltk_data]   Package wordnet is already up-to-date!\n",
      "[nltk_data] Downloading package stopwords to\n",
      "[nltk_data]     C:\\Users\\naitr\\AppData\\Roaming\\nltk_data...\n",
      "[nltk_data]   Package stopwords is already up-to-date!\n"
     ]
    }
   ],
   "source": [
    "import nltk\n",
    "from nltk.corpus import stopwords\n",
    "from nltk.stem import WordNetLemmatizer\n",
    "from nltk.tokenize import word_tokenize\n",
    "import re\n",
    "\n",
    "nltk.download('punkt')\n",
    "nltk.download('wordnet')\n",
    "nltk.download('stopwords')\n",
    "\n",
    "# Create a WordNetLemmatizer object\n",
    "lemmatizer = WordNetLemmatizer()\n",
    "\n",
    "# Get English stopwords\n",
    "stop_words = set(stopwords.words('english'))\n",
    "\n",
    "def preprocess_text(text):\n",
    "    # Remove commas and semicolons\n",
    "    text = text.replace(',', '')\n",
    "    text = text.replace(';', '')\n",
    "    # Remove special characters\n",
    "    text = re.sub(r'\\W', ' ', text)\n",
    "    # Tokenize text\n",
    "    tokens = word_tokenize(text)\n",
    "    # Remove stopwords and perform lemmatization\n",
    "    tokens = [lemmatizer.lemmatize(token) for token in tokens if token not in stop_words]\n",
    "\n",
    "    return ' '.join(tokens)\n",
    "\n",
    "# Apply the function to the review column\n",
    "df['review'] = df['review'].apply(preprocess_text)"
   ]
  },
  {
   "cell_type": "code",
   "execution_count": 4,
   "id": "b9b6fb0d",
   "metadata": {},
   "outputs": [
    {
     "name": "stdout",
     "output_type": "stream",
     "text": [
      "                                              review sentiment  \\\n",
      "0  One reviewer mentioned watching 1 Oz episode h...  positive   \n",
      "1  A wonderful little production br br The filmin...  positive   \n",
      "2  I thought wonderful way spend time hot summer ...  positive   \n",
      "3  Basically family little boy Jake think zombie ...  negative   \n",
      "4  Petter Mattei Love Time Money visually stunnin...  positive   \n",
      "\n",
      "  predicted_sentiment  \n",
      "0             neutral  \n",
      "1            positive  \n",
      "2            positive  \n",
      "3             neutral  \n",
      "4            positive  \n"
     ]
    }
   ],
   "source": [
    "from textblob import TextBlob\n",
    "\n",
    "# Function to analyze sentiment using TextBlob\n",
    "def analyze_sentiment(text):\n",
    "    analysis = TextBlob(text)\n",
    "    return analysis.sentiment.polarity\n",
    "\n",
    "# Apply sentiment analysis\n",
    "df['predicted_sentiment'] = df['review'].apply(analyze_sentiment)\n",
    "\n",
    "# Function to classify sentiments into positive, negative, and neutral\n",
    "def classify_sentiment(polarity):\n",
    "    if polarity > 0.1:\n",
    "        return 'positive'  # positive\n",
    "    elif polarity < -0.1:\n",
    "        return 'negative'  # negative\n",
    "    else:\n",
    "        return 'neutral'  # neutral\n",
    "\n",
    "# Apply sentiment classification\n",
    "df['predicted_sentiment'] = df['predicted_sentiment'].apply(classify_sentiment)\n",
    "\n",
    "# Display the first few predictions\n",
    "print(df.head())"
   ]
  },
  {
   "cell_type": "code",
   "execution_count": 5,
   "id": "41a616a2",
   "metadata": {},
   "outputs": [
    {
     "name": "stdout",
     "output_type": "stream",
     "text": [
      "Accuracy: 0.795449306858968\n",
      "              precision    recall  f1-score   support\n",
      "\n",
      "    Negative       0.94      0.47      0.62     11028\n",
      "    Positive       0.76      0.98      0.86     19341\n",
      "\n",
      "    accuracy                           0.80     30369\n",
      "   macro avg       0.85      0.73      0.74     30369\n",
      "weighted avg       0.83      0.80      0.77     30369\n",
      "\n"
     ]
    }
   ],
   "source": [
    "from sklearn.metrics import accuracy_score, classification_report\n",
    "\n",
    "# Map target values to numeric values for evaluation\n",
    "df['sentiment'] = df['sentiment'].apply(lambda x: 1 if x == 'positive' else 0)\n",
    "\n",
    "# Map predicted sentiment to numeric values for evaluation\n",
    "df['predicted_sentiment_numeric'] = df['predicted_sentiment'].apply(lambda x: 1 if x == 'positive' else (0 if x == 'negative' else 2))\n",
    "\n",
    "# For evaluation, consider only positive and negative classifications\n",
    "df_eval = df[df['predicted_sentiment_numeric'] != 2]  # Exclude neutral predictions\n",
    "\n",
    "# Calculate accuracy\n",
    "accuracy = accuracy_score(df_eval['sentiment'], df_eval['predicted_sentiment_numeric'])\n",
    "print(f'Accuracy: {accuracy}')\n",
    "\n",
    "# Print classification report for more detailed evaluation\n",
    "report = classification_report(df_eval['sentiment'], df_eval['predicted_sentiment_numeric'], target_names=['Negative', 'Positive'])\n",
    "print(report)"
   ]
  },
  {
   "cell_type": "code",
   "execution_count": 6,
   "id": "a0fece4f",
   "metadata": {},
   "outputs": [
    {
     "data": {
      "image/png": "[encoded data removed]",
      "text/plain": [
       "<Figure size 640x480 with 1 Axes>"
      ]
     },
     "metadata": {},
     "output_type": "display_data"
    },
    {
     "data": {
      "image/png": "[encoded data removed]",
      "text/plain": [
       "<Figure size 640x480 with 1 Axes>"
      ]
     },
     "metadata": {},
     "output_type": "display_data"
    }
   ],
   "source": [
    "import matplotlib.pyplot as plt\n",
    "\n",
    "# Visualize sentiment distribution in the original data\n",
    "df['sentiment'].value_counts().plot(kind='bar', title='Sentiment Distribution (Original)')\n",
    "plt.xlabel('Sentiment')\n",
    "plt.ylabel('Count')\n",
    "plt.xticks(ticks=[0, 1], labels=['Negative', 'Positive'], rotation=0)\n",
    "plt.show()\n",
    "\n",
    "# Visualize sentiment distribution in the predicted data\n",
    "df['predicted_sentiment_numeric'].value_counts().plot(kind='bar', title='Sentiment Distribution (Predicted)')\n",
    "plt.xlabel('Sentiment')\n",
    "plt.ylabel('Count')\n",
    "plt.xticks(ticks=[0, 1, 2], labels=['Negative', 'Positive', 'Neutral'], rotation=0)\n",
    "plt.show()"
   ]
  }
 ],
 "metadata": {
  "kernelspec": {
   "display_name": "Python 3 (ipykernel)",
   "language": "python",
   "name": "python3"
  },
  "language_info": {
   "codemirror_mode": {
    "name": "ipython",
    "version": 3
   },
   "file_extension": ".py",
   "mimetype": "text/x-python",
   "name": "python",
   "nbconvert_exporter": "python",
   "pygments_lexer": "ipython3",
   "version": "3.11.5"
  }
 },
 "nbformat": 4,
 "nbformat_minor": 5
}
